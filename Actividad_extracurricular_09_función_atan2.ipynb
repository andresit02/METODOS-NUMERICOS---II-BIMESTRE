{
  "nbformat": 4,
  "nbformat_minor": 0,
  "metadata": {
    "colab": {
      "provenance": [],
      "authorship_tag": "ABX9TyN/UTzgDHXszPkqr9/u1a/w",
      "include_colab_link": true
    },
    "kernelspec": {
      "name": "python3",
      "display_name": "Python 3"
    },
    "language_info": {
      "name": "python"
    }
  },
  "cells": [
    {
      "cell_type": "markdown",
      "metadata": {
        "id": "view-in-github",
        "colab_type": "text"
      },
      "source": [
        "<a href=\"https://colab.research.google.com/github/andresit02/METODOS-NUMERICOS---II-BIMESTRE/blob/main/Actividad_extracurricular_09_funci%C3%B3n_atan2.ipynb\" target=\"_parent\"><img src=\"https://colab.research.google.com/assets/colab-badge.svg\" alt=\"Open In Colab\"/></a>"
      ]
    },
    {
      "cell_type": "markdown",
      "source": [
        "## __ACTIVIDAD EXTRACURRICULAR #9__"
      ],
      "metadata": {
        "id": "kK5tZ3Y0sc5s"
      }
    },
    {
      "cell_type": "markdown",
      "source": [
        "__Realizado por: Andres Fernandez__"
      ],
      "metadata": {
        "id": "B044adwlsj8D"
      }
    },
    {
      "cell_type": "markdown",
      "source": [
        "***FUNCIÓN ATAN 2***"
      ],
      "metadata": {
        "id": "o0aJu5iVomx7"
      }
    },
    {
      "cell_type": "markdown",
      "source": [
        "__atan2(y, x)__ es una función matemática que calcula el arcotangente de y/x, devolviendo el ángulo (en radianes) entre el eje x positivo y el punto (x, y) en un plano cartesiano.\n",
        "\n",
        "Se recomienda __atan2__ sobre __atan(y/x)__ porque __atan2__ maneja correctamente todos los cuadrantes.\n",
        "\n",
        "Su principal ventaja sobre __atan(y/x)__ es que considera los signos de ambos x e y, permitiendo determinar inequívocamente el cuadrante del ángulo, evitando la ambigüedad inherente a __atan__, que sólo proporciona ángulos en el rango __(-π/2, π/2)__. __atan2__ proporciona un ángulo en el rango __[-π, π]__, abarcando los cuatro cuadrantes.\n",
        "\n",
        "El uso de __atan2__ es esencial en aplicaciones donde la dirección angular es crítica, como gráficos por computadora, robótica o física."
      ],
      "metadata": {
        "id": "mVhUKhFmpNop"
      }
    },
    {
      "cell_type": "markdown",
      "source": [
        "***DIFERENCIAS ENTRE ATAN Y ATAN2***"
      ],
      "metadata": {
        "id": "dkjhYXKRqJxL"
      }
    },
    {
      "cell_type": "markdown",
      "source": [
        "| Característica          | `atan(y/x)`              | `atan2(y, x)`             |  \n",
        "|-----------------------|---------------------------|---------------------------|  \n",
        "| Rango de salida        |    (-π/2, π/2)               | (-π, π]                    |  \n",
        "| Manejo de cuadrantes   | Incorrecto para x negativo | Correcto para todos los cuadrantes |  \n",
        "| Argumentos             | Un solo argumento (y/x)    | Dos argumentos (y, x)      |  \n",
        "| Ambigüedad             | Puede ser ambigua         | No es ambigua             |  \n",
        "| Precisión numérica             | Puede sufrir pérdida de precisión si x es muy grande o muy pequeño en comparación con y.         | Generalmente más robusta numéricamente, ya que evita la división explícita y las posibles pérdidas de precisión asociadas.             |"
      ],
      "metadata": {
        "id": "4LdJXM_dqPAt"
      }
    },
    {
      "cell_type": "markdown",
      "source": [
        "***EJEMPLOS***"
      ],
      "metadata": {
        "id": "k76inKEpqyza"
      }
    },
    {
      "cell_type": "code",
      "source": [
        "import math\n",
        "\n",
        "# Ejemplo 1: Cuadrante I\n",
        "y = 1\n",
        "x = 1\n",
        "angulo = math.atan2(y, x)\n",
        "print(f\"Angulo (Cuadrante I): {math.degrees(angulo)} grados\") # ~45 grados\n",
        "\n",
        "# Ejemplo 2: Cuadrante II\n",
        "y = 1\n",
        "x = -1\n",
        "angulo = math.atan2(y, x)\n",
        "print(f\"Angulo (Cuadrante II): {math.degrees(angulo)} grados\") # ~135 grados\n",
        "\n",
        "# Ejemplo 3: Cuadrante III\n",
        "y = -1\n",
        "x = -1\n",
        "angulo = math.atan2(y, x)\n",
        "print(f\"Angulo (Cuadrante III): {math.degrees(angulo)} grados\") # ~-135 grados\n",
        "\n",
        "# Ejemplo 4: Cuadrante IV\n",
        "y = -1\n",
        "x = 1\n",
        "angulo = math.atan2(y, x)\n",
        "print(f\"Angulo (Cuadrante IV): {math.degrees(angulo)} grados\") # ~-45 grados\n",
        "\n",
        "# Ejemplo 5:  x = 0, y > 0\n",
        "y = 1\n",
        "x = 0\n",
        "angulo = math.atan2(y, x)\n",
        "print(f\"Angulo (y > 0, x = 0): {math.degrees(angulo)} grados\") # 90 grados\n",
        "\n",
        "import math\n",
        "\n",
        "# Ejemplo 6: x = 0, y < 0\n",
        "y = -1\n",
        "x = 0\n",
        "angulo = math.atan2(y, x)\n",
        "print(f\"Angulo (y < 0, x = 0): {math.degrees(angulo)} grados\") # -90 grados\n",
        "\n",
        "# Ejemplo 7:  x = 0, y = 0 (caso especial)\n",
        "y = 0\n",
        "x = 0\n",
        "angulo = math.atan2(y, x)\n",
        "print(f\"Angulo (y = 0, x = 0): {math.degrees(angulo)} grados\") # 0 grados (o NaN dependiendo de la implementación)\n",
        "\n",
        "# Ejemplo 8:  Valores grandes para verificar la precisión\n",
        "y = 1e10  # Un número muy grande\n",
        "x = 1\n",
        "angulo = math.atan2(y, x)\n",
        "print(f\"Angulo (Valores Grandes): {math.degrees(angulo)} grados\") # Debería ser cercano a 90 grados"
      ],
      "metadata": {
        "colab": {
          "base_uri": "https://localhost:8080/"
        },
        "id": "cQLZr7fVrDRO",
        "outputId": "97ceaec3-a12a-4a6c-d849-b5ad336773ee"
      },
      "execution_count": 2,
      "outputs": [
        {
          "output_type": "stream",
          "name": "stdout",
          "text": [
            "Angulo (Cuadrante I): 45.0 grados\n",
            "Angulo (Cuadrante II): 135.0 grados\n",
            "Angulo (Cuadrante III): -135.0 grados\n",
            "Angulo (Cuadrante IV): -45.0 grados\n",
            "Angulo (y > 0, x = 0): 90.0 grados\n",
            "Angulo (y < 0, x = 0): -90.0 grados\n",
            "Angulo (y = 0, x = 0): 0.0 grados\n",
            "Angulo (Valores Grandes): 89.99999999427042 grados\n"
          ]
        }
      ]
    }
  ]
}